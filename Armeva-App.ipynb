{
 "cells": [
  {
   "cell_type": "markdown",
   "id": "0d588bc6",
   "metadata": {},
   "source": [
    "### Armeva Data Test"
   ]
  },
  {
   "cell_type": "markdown",
   "id": "21881286",
   "metadata": {},
   "source": [
    "### import files"
   ]
  },
  {
   "cell_type": "code",
   "execution_count": 19,
   "id": "5facf7e9",
   "metadata": {},
   "outputs": [],
   "source": [
    "import pandas as pd\n",
    "import matplotlib.pyplot as plt\n",
    "pd.set_option('display.max_rows',15)"
   ]
  },
  {
   "cell_type": "code",
   "execution_count": 20,
   "id": "39e3dedd",
   "metadata": {},
   "outputs": [],
   "source": [
    "data = pd.read_json('all_registers.json')"
   ]
  },
  {
   "cell_type": "code",
   "execution_count": 21,
   "id": "5572e45e",
   "metadata": {
    "scrolled": false
   },
   "outputs": [
    {
     "data": {
      "text/html": [
       "<div>\n",
       "<style scoped>\n",
       "    .dataframe tbody tr th:only-of-type {\n",
       "        vertical-align: middle;\n",
       "    }\n",
       "\n",
       "    .dataframe tbody tr th {\n",
       "        vertical-align: top;\n",
       "    }\n",
       "\n",
       "    .dataframe thead th {\n",
       "        text-align: right;\n",
       "    }\n",
       "</style>\n",
       "<table border=\"1\" class=\"dataframe\">\n",
       "  <thead>\n",
       "    <tr style=\"text-align: right;\">\n",
       "      <th></th>\n",
       "      <th>Date</th>\n",
       "      <th>amount</th>\n",
       "      <th>status</th>\n",
       "      <th>id</th>\n",
       "      <th>belongTo</th>\n",
       "      <th>object</th>\n",
       "      <th>building</th>\n",
       "      <th>name</th>\n",
       "      <th>value</th>\n",
       "      <th>payload</th>\n",
       "    </tr>\n",
       "  </thead>\n",
       "  <tbody>\n",
       "    <tr>\n",
       "      <th>0</th>\n",
       "      <td>2022-11-30 15:34:59.331</td>\n",
       "      <td>1</td>\n",
       "      <td>Gastos</td>\n",
       "      <td>0072ea47-de0c-42d3-beae-729bf81998a4</td>\n",
       "      <td>{'id': '76902931-d0c3-454b-b2c1-719c18b1dd70',...</td>\n",
       "      <td>Perros</td>\n",
       "      <td>{'idSector': '', 'nameBarn': '', 'idBarn': '',...</td>\n",
       "      <td>Nutriss adulto carne y vegetales x20</td>\n",
       "      <td>100000</td>\n",
       "      <td>NaN</td>\n",
       "    </tr>\n",
       "    <tr>\n",
       "      <th>1</th>\n",
       "      <td>2022-10-17 03:14:54.107</td>\n",
       "      <td>1</td>\n",
       "      <td>Gastos</td>\n",
       "      <td>0177ea2a-f0fd-440a-b513-2462b7400996</td>\n",
       "      <td>{'id': '76902931-d0c3-454b-b2c1-719c18b1dd70',...</td>\n",
       "      <td>Pollo</td>\n",
       "      <td>NaN</td>\n",
       "      <td>Arreglo de Pollos</td>\n",
       "      <td>30000</td>\n",
       "      <td>NaN</td>\n",
       "    </tr>\n",
       "    <tr>\n",
       "      <th>2</th>\n",
       "      <td>2022-11-30 23:49:14.042</td>\n",
       "      <td>15</td>\n",
       "      <td>Pagado</td>\n",
       "      <td>020d0bb3-91ed-41cb-befb-bb249efb9390</td>\n",
       "      <td>{'id': '6bb02aaf-d03c-4b28-a88a-1832a76fe25b',...</td>\n",
       "      <td>Pollo</td>\n",
       "      <td>{'nameSector': 'A', 'nameBarn': 'Galpon1', 'id...</td>\n",
       "      <td>Pollo</td>\n",
       "      <td>521000</td>\n",
       "      <td>NaN</td>\n",
       "    </tr>\n",
       "    <tr>\n",
       "      <th>3</th>\n",
       "      <td>2022-11-15 01:56:28.211</td>\n",
       "      <td>2</td>\n",
       "      <td>Pagado</td>\n",
       "      <td>025ea294-50b6-4c40-85a7-aa2780364858</td>\n",
       "      <td>{'name': 'Julio Mosquera', 'id': '6ab1de91-d7d...</td>\n",
       "      <td>Huevo</td>\n",
       "      <td>{'nameBarn': '', 'idBarn': '', 'idSector': '',...</td>\n",
       "      <td>Huevo</td>\n",
       "      <td>38000</td>\n",
       "      <td>NaN</td>\n",
       "    </tr>\n",
       "    <tr>\n",
       "      <th>4</th>\n",
       "      <td>2022-11-09 03:27:28.250</td>\n",
       "      <td>4</td>\n",
       "      <td>Pagado</td>\n",
       "      <td>042dcac7-f5ec-44d5-8ddc-1a7cdf17c96e</td>\n",
       "      <td>{'name': 'Jose Bermudez', 'id': 'f80fe47b-084d...</td>\n",
       "      <td>Pollo</td>\n",
       "      <td>{'idSector': '', 'idBarn': '', 'nameBarn': '',...</td>\n",
       "      <td>Pollo Fresco</td>\n",
       "      <td>250000</td>\n",
       "      <td>NaN</td>\n",
       "    </tr>\n",
       "    <tr>\n",
       "      <th>...</th>\n",
       "      <td>...</td>\n",
       "      <td>...</td>\n",
       "      <td>...</td>\n",
       "      <td>...</td>\n",
       "      <td>...</td>\n",
       "      <td>...</td>\n",
       "      <td>...</td>\n",
       "      <td>...</td>\n",
       "      <td>...</td>\n",
       "      <td>...</td>\n",
       "    </tr>\n",
       "    <tr>\n",
       "      <th>321</th>\n",
       "      <td>2022-10-05 18:12:00.000</td>\n",
       "      <td>1</td>\n",
       "      <td>Deuda</td>\n",
       "      <td>fbc600a0-032d-4c43-be4b-c672edec3398</td>\n",
       "      <td>{'id': 'd7de3242-8721-4bf4-8d51-250c558120a2',...</td>\n",
       "      <td>Arriendo</td>\n",
       "      <td>{'nameSector': '', 'idSector': '', 'nameBarn':...</td>\n",
       "      <td>Arriendo</td>\n",
       "      <td>420000</td>\n",
       "      <td>NaN</td>\n",
       "    </tr>\n",
       "    <tr>\n",
       "      <th>322</th>\n",
       "      <td>2022-11-09 23:39:41.590</td>\n",
       "      <td>2</td>\n",
       "      <td>Pagado</td>\n",
       "      <td>fbfc3be5-76a4-40e0-bf40-3ab70824512a</td>\n",
       "      <td>{'id': '3b30f48a-55a4-4300-9d34-5da64259aa76',...</td>\n",
       "      <td>Huevo</td>\n",
       "      <td>{'idSector': '', 'idBarn': '', 'nameSector': '...</td>\n",
       "      <td>Huevo</td>\n",
       "      <td>38000</td>\n",
       "      <td>NaN</td>\n",
       "    </tr>\n",
       "    <tr>\n",
       "      <th>323</th>\n",
       "      <td>2022-11-24 20:42:09.622</td>\n",
       "      <td>1</td>\n",
       "      <td>Pagado</td>\n",
       "      <td>fc5d00df-d0f3-48d1-b8be-a52e78a5e7c7</td>\n",
       "      <td>{'name': 'Maria Mena Piedraita', 'id': '952e13...</td>\n",
       "      <td>Pollo</td>\n",
       "      <td>{'nameSector': 'C', 'idSector': '15213c77-9bf1...</td>\n",
       "      <td>Pollo</td>\n",
       "      <td>67000</td>\n",
       "      <td>NaN</td>\n",
       "    </tr>\n",
       "    <tr>\n",
       "      <th>324</th>\n",
       "      <td>2022-11-09 03:34:21.155</td>\n",
       "      <td>2</td>\n",
       "      <td>Pagado</td>\n",
       "      <td>fca0e6ca-97d4-4920-8a82-728186a25cbe</td>\n",
       "      <td>{'id': '10db4f8b-e2a9-42a9-892d-499503c45836',...</td>\n",
       "      <td>Huevo</td>\n",
       "      <td>{'idBarn': '', 'nameBarn': '', 'nameSector': '...</td>\n",
       "      <td>Huevo</td>\n",
       "      <td>38000</td>\n",
       "      <td>NaN</td>\n",
       "    </tr>\n",
       "    <tr>\n",
       "      <th>325</th>\n",
       "      <td>2022-10-24 21:01:42.804</td>\n",
       "      <td>0</td>\n",
       "      <td>Pagado</td>\n",
       "      <td>fdba7989-67f8-4552-a793-c1dfc8d0481a</td>\n",
       "      <td>{'name': 'Justo Hinestroza', 'id': '10db4f8b-e...</td>\n",
       "      <td>Pollo</td>\n",
       "      <td>NaN</td>\n",
       "      <td>Pollo</td>\n",
       "      <td>10000</td>\n",
       "      <td>NaN</td>\n",
       "    </tr>\n",
       "  </tbody>\n",
       "</table>\n",
       "<p>326 rows × 10 columns</p>\n",
       "</div>"
      ],
      "text/plain": [
       "                       Date  amount  status  \\\n",
       "0   2022-11-30 15:34:59.331       1  Gastos   \n",
       "1   2022-10-17 03:14:54.107       1  Gastos   \n",
       "2   2022-11-30 23:49:14.042      15  Pagado   \n",
       "3   2022-11-15 01:56:28.211       2  Pagado   \n",
       "4   2022-11-09 03:27:28.250       4  Pagado   \n",
       "..                      ...     ...     ...   \n",
       "321 2022-10-05 18:12:00.000       1   Deuda   \n",
       "322 2022-11-09 23:39:41.590       2  Pagado   \n",
       "323 2022-11-24 20:42:09.622       1  Pagado   \n",
       "324 2022-11-09 03:34:21.155       2  Pagado   \n",
       "325 2022-10-24 21:01:42.804       0  Pagado   \n",
       "\n",
       "                                       id  \\\n",
       "0    0072ea47-de0c-42d3-beae-729bf81998a4   \n",
       "1    0177ea2a-f0fd-440a-b513-2462b7400996   \n",
       "2    020d0bb3-91ed-41cb-befb-bb249efb9390   \n",
       "3    025ea294-50b6-4c40-85a7-aa2780364858   \n",
       "4    042dcac7-f5ec-44d5-8ddc-1a7cdf17c96e   \n",
       "..                                    ...   \n",
       "321  fbc600a0-032d-4c43-be4b-c672edec3398   \n",
       "322  fbfc3be5-76a4-40e0-bf40-3ab70824512a   \n",
       "323  fc5d00df-d0f3-48d1-b8be-a52e78a5e7c7   \n",
       "324  fca0e6ca-97d4-4920-8a82-728186a25cbe   \n",
       "325  fdba7989-67f8-4552-a793-c1dfc8d0481a   \n",
       "\n",
       "                                              belongTo    object  \\\n",
       "0    {'id': '76902931-d0c3-454b-b2c1-719c18b1dd70',...    Perros   \n",
       "1    {'id': '76902931-d0c3-454b-b2c1-719c18b1dd70',...     Pollo   \n",
       "2    {'id': '6bb02aaf-d03c-4b28-a88a-1832a76fe25b',...     Pollo   \n",
       "3    {'name': 'Julio Mosquera', 'id': '6ab1de91-d7d...     Huevo   \n",
       "4    {'name': 'Jose Bermudez', 'id': 'f80fe47b-084d...     Pollo   \n",
       "..                                                 ...       ...   \n",
       "321  {'id': 'd7de3242-8721-4bf4-8d51-250c558120a2',...  Arriendo   \n",
       "322  {'id': '3b30f48a-55a4-4300-9d34-5da64259aa76',...     Huevo   \n",
       "323  {'name': 'Maria Mena Piedraita', 'id': '952e13...     Pollo   \n",
       "324  {'id': '10db4f8b-e2a9-42a9-892d-499503c45836',...     Huevo   \n",
       "325  {'name': 'Justo Hinestroza', 'id': '10db4f8b-e...     Pollo   \n",
       "\n",
       "                                              building  \\\n",
       "0    {'idSector': '', 'nameBarn': '', 'idBarn': '',...   \n",
       "1                                                  NaN   \n",
       "2    {'nameSector': 'A', 'nameBarn': 'Galpon1', 'id...   \n",
       "3    {'nameBarn': '', 'idBarn': '', 'idSector': '',...   \n",
       "4    {'idSector': '', 'idBarn': '', 'nameBarn': '',...   \n",
       "..                                                 ...   \n",
       "321  {'nameSector': '', 'idSector': '', 'nameBarn':...   \n",
       "322  {'idSector': '', 'idBarn': '', 'nameSector': '...   \n",
       "323  {'nameSector': 'C', 'idSector': '15213c77-9bf1...   \n",
       "324  {'idBarn': '', 'nameBarn': '', 'nameSector': '...   \n",
       "325                                                NaN   \n",
       "\n",
       "                                     name   value payload  \n",
       "0    Nutriss adulto carne y vegetales x20  100000     NaN  \n",
       "1                       Arreglo de Pollos   30000     NaN  \n",
       "2                                   Pollo  521000     NaN  \n",
       "3                                   Huevo   38000     NaN  \n",
       "4                            Pollo Fresco  250000     NaN  \n",
       "..                                    ...     ...     ...  \n",
       "321                              Arriendo  420000     NaN  \n",
       "322                                 Huevo   38000     NaN  \n",
       "323                                 Pollo   67000     NaN  \n",
       "324                                 Huevo   38000     NaN  \n",
       "325                                 Pollo   10000     NaN  \n",
       "\n",
       "[326 rows x 10 columns]"
      ]
     },
     "execution_count": 21,
     "metadata": {},
     "output_type": "execute_result"
    }
   ],
   "source": [
    "data"
   ]
  },
  {
   "cell_type": "code",
   "execution_count": 43,
   "id": "1d28b2b9",
   "metadata": {},
   "outputs": [
    {
     "data": {
      "text/plain": [
       "Index(['Date', 'amount', 'status', 'id', 'belongTo', 'object', 'building',\n",
       "       'name', 'value', 'payload'],\n",
       "      dtype='object')"
      ]
     },
     "execution_count": 43,
     "metadata": {},
     "output_type": "execute_result"
    }
   ],
   "source": [
    "data.columns"
   ]
  },
  {
   "cell_type": "code",
   "execution_count": 22,
   "id": "5bcef455",
   "metadata": {},
   "outputs": [],
   "source": [
    "onlyPollos = data.loc[(data['object']== 'Pollo') & (data['status'] == 'Pagado')]"
   ]
  },
  {
   "cell_type": "code",
   "execution_count": 23,
   "id": "63167963",
   "metadata": {},
   "outputs": [
    {
     "data": {
      "text/html": [
       "<div>\n",
       "<style scoped>\n",
       "    .dataframe tbody tr th:only-of-type {\n",
       "        vertical-align: middle;\n",
       "    }\n",
       "\n",
       "    .dataframe tbody tr th {\n",
       "        vertical-align: top;\n",
       "    }\n",
       "\n",
       "    .dataframe thead th {\n",
       "        text-align: right;\n",
       "    }\n",
       "</style>\n",
       "<table border=\"1\" class=\"dataframe\">\n",
       "  <thead>\n",
       "    <tr style=\"text-align: right;\">\n",
       "      <th></th>\n",
       "      <th>Date</th>\n",
       "      <th>amount</th>\n",
       "      <th>status</th>\n",
       "      <th>id</th>\n",
       "      <th>belongTo</th>\n",
       "      <th>object</th>\n",
       "      <th>building</th>\n",
       "      <th>name</th>\n",
       "      <th>value</th>\n",
       "      <th>payload</th>\n",
       "    </tr>\n",
       "  </thead>\n",
       "  <tbody>\n",
       "    <tr>\n",
       "      <th>2</th>\n",
       "      <td>2022-11-30 23:49:14.042</td>\n",
       "      <td>15</td>\n",
       "      <td>Pagado</td>\n",
       "      <td>020d0bb3-91ed-41cb-befb-bb249efb9390</td>\n",
       "      <td>{'id': '6bb02aaf-d03c-4b28-a88a-1832a76fe25b',...</td>\n",
       "      <td>Pollo</td>\n",
       "      <td>{'nameSector': 'A', 'nameBarn': 'Galpon1', 'id...</td>\n",
       "      <td>Pollo</td>\n",
       "      <td>521000</td>\n",
       "      <td>NaN</td>\n",
       "    </tr>\n",
       "    <tr>\n",
       "      <th>4</th>\n",
       "      <td>2022-11-09 03:27:28.250</td>\n",
       "      <td>4</td>\n",
       "      <td>Pagado</td>\n",
       "      <td>042dcac7-f5ec-44d5-8ddc-1a7cdf17c96e</td>\n",
       "      <td>{'name': 'Jose Bermudez', 'id': 'f80fe47b-084d...</td>\n",
       "      <td>Pollo</td>\n",
       "      <td>{'idSector': '', 'idBarn': '', 'nameBarn': '',...</td>\n",
       "      <td>Pollo Fresco</td>\n",
       "      <td>250000</td>\n",
       "      <td>NaN</td>\n",
       "    </tr>\n",
       "    <tr>\n",
       "      <th>16</th>\n",
       "      <td>2022-11-15 01:57:30.227</td>\n",
       "      <td>1</td>\n",
       "      <td>Pagado</td>\n",
       "      <td>0e6c401b-8ce1-48f8-84c2-0f472583c862</td>\n",
       "      <td>{'id': 'dc47d6d4-ab48-4dd1-a9b3-1c38489883ec',...</td>\n",
       "      <td>Pollo</td>\n",
       "      <td>{'nameSector': 'C', 'idSector': '15213c77-9bf1...</td>\n",
       "      <td>Pollo Fresco</td>\n",
       "      <td>59000</td>\n",
       "      <td>NaN</td>\n",
       "    </tr>\n",
       "    <tr>\n",
       "      <th>17</th>\n",
       "      <td>2022-11-10 12:08:50.304</td>\n",
       "      <td>1</td>\n",
       "      <td>Pagado</td>\n",
       "      <td>0ea4c977-7bdd-4409-a573-cef6f3d8a4c6</td>\n",
       "      <td>{'name': 'Arsenia Murillo', 'id': 'e08c5f5c-36...</td>\n",
       "      <td>Pollo</td>\n",
       "      <td>{'idSector': '', 'nameBarn': '', 'nameSector':...</td>\n",
       "      <td>Pollo Fresco</td>\n",
       "      <td>66000</td>\n",
       "      <td>{'object': 'Pollo', 'id': '0ea4c977-7bdd-4409-...</td>\n",
       "    </tr>\n",
       "    <tr>\n",
       "      <th>18</th>\n",
       "      <td>2022-10-18 21:19:21.422</td>\n",
       "      <td>2</td>\n",
       "      <td>Pagado</td>\n",
       "      <td>0f86491d-feb5-4c2b-af6f-a940f14aaf54</td>\n",
       "      <td>{'name': 'Madelen Pedraza', 'id': '54be9e0b-a3...</td>\n",
       "      <td>Pollo</td>\n",
       "      <td>NaN</td>\n",
       "      <td>Madelen Pedraza</td>\n",
       "      <td>30000</td>\n",
       "      <td>NaN</td>\n",
       "    </tr>\n",
       "  </tbody>\n",
       "</table>\n",
       "</div>"
      ],
      "text/plain": [
       "                      Date  amount  status  \\\n",
       "2  2022-11-30 23:49:14.042      15  Pagado   \n",
       "4  2022-11-09 03:27:28.250       4  Pagado   \n",
       "16 2022-11-15 01:57:30.227       1  Pagado   \n",
       "17 2022-11-10 12:08:50.304       1  Pagado   \n",
       "18 2022-10-18 21:19:21.422       2  Pagado   \n",
       "\n",
       "                                      id  \\\n",
       "2   020d0bb3-91ed-41cb-befb-bb249efb9390   \n",
       "4   042dcac7-f5ec-44d5-8ddc-1a7cdf17c96e   \n",
       "16  0e6c401b-8ce1-48f8-84c2-0f472583c862   \n",
       "17  0ea4c977-7bdd-4409-a573-cef6f3d8a4c6   \n",
       "18  0f86491d-feb5-4c2b-af6f-a940f14aaf54   \n",
       "\n",
       "                                             belongTo object  \\\n",
       "2   {'id': '6bb02aaf-d03c-4b28-a88a-1832a76fe25b',...  Pollo   \n",
       "4   {'name': 'Jose Bermudez', 'id': 'f80fe47b-084d...  Pollo   \n",
       "16  {'id': 'dc47d6d4-ab48-4dd1-a9b3-1c38489883ec',...  Pollo   \n",
       "17  {'name': 'Arsenia Murillo', 'id': 'e08c5f5c-36...  Pollo   \n",
       "18  {'name': 'Madelen Pedraza', 'id': '54be9e0b-a3...  Pollo   \n",
       "\n",
       "                                             building             name  \\\n",
       "2   {'nameSector': 'A', 'nameBarn': 'Galpon1', 'id...            Pollo   \n",
       "4   {'idSector': '', 'idBarn': '', 'nameBarn': '',...     Pollo Fresco   \n",
       "16  {'nameSector': 'C', 'idSector': '15213c77-9bf1...     Pollo Fresco   \n",
       "17  {'idSector': '', 'nameBarn': '', 'nameSector':...     Pollo Fresco   \n",
       "18                                                NaN  Madelen Pedraza   \n",
       "\n",
       "     value                                            payload  \n",
       "2   521000                                                NaN  \n",
       "4   250000                                                NaN  \n",
       "16   59000                                                NaN  \n",
       "17   66000  {'object': 'Pollo', 'id': '0ea4c977-7bdd-4409-...  \n",
       "18   30000                                                NaN  "
      ]
     },
     "execution_count": 23,
     "metadata": {},
     "output_type": "execute_result"
    }
   ],
   "source": [
    "onlyPollos.head()"
   ]
  },
  {
   "cell_type": "code",
   "execution_count": null,
   "id": "448f1053",
   "metadata": {},
   "outputs": [],
   "source": []
  },
  {
   "cell_type": "code",
   "execution_count": 24,
   "id": "84fa63ec",
   "metadata": {},
   "outputs": [
    {
     "data": {
      "text/plain": [
       "214799.76744186046"
      ]
     },
     "execution_count": 24,
     "metadata": {},
     "output_type": "execute_result"
    }
   ],
   "source": [
    "onlyPollos['value'].mean()"
   ]
  },
  {
   "cell_type": "code",
   "execution_count": 25,
   "id": "88808c84",
   "metadata": {
    "scrolled": true
   },
   "outputs": [
    {
     "data": {
      "text/plain": [
       "60000     3\n",
       "56000     2\n",
       "55000     2\n",
       "70000     2\n",
       "120000    2\n",
       "         ..\n",
       "250000    1\n",
       "132000    1\n",
       "100400    1\n",
       "50000     1\n",
       "10000     1\n",
       "Name: value, Length: 71, dtype: int64"
      ]
     },
     "execution_count": 25,
     "metadata": {},
     "output_type": "execute_result"
    }
   ],
   "source": [
    "onlyPollos['value'].value_counts()"
   ]
  },
  {
   "cell_type": "code",
   "execution_count": 26,
   "id": "9863d361",
   "metadata": {},
   "outputs": [
    {
     "data": {
      "text/plain": [
       "(86, 10)"
      ]
     },
     "execution_count": 26,
     "metadata": {},
     "output_type": "execute_result"
    }
   ],
   "source": [
    "onlyPollos.shape"
   ]
  },
  {
   "cell_type": "code",
   "execution_count": 45,
   "id": "7151b5fc",
   "metadata": {},
   "outputs": [
    {
     "data": {
      "text/plain": [
       "430"
      ]
     },
     "execution_count": 45,
     "metadata": {},
     "output_type": "execute_result"
    }
   ],
   "source": [
    "onlyPollos[\"amount\"].sum()"
   ]
  },
  {
   "cell_type": "code",
   "execution_count": 27,
   "id": "8f98e11e",
   "metadata": {},
   "outputs": [],
   "source": [
    "min = onlyPollos.loc[(onlyPollos['value'] > 20000) & (onlyPollos['value']< 100000)]"
   ]
  },
  {
   "cell_type": "code",
   "execution_count": 28,
   "id": "cd03ac65",
   "metadata": {},
   "outputs": [
    {
     "data": {
      "text/plain": [
       "65602.56410256411"
      ]
     },
     "execution_count": 28,
     "metadata": {},
     "output_type": "execute_result"
    }
   ],
   "source": [
    "min['value'].mean()"
   ]
  },
  {
   "cell_type": "code",
   "execution_count": 29,
   "id": "b9accfef",
   "metadata": {},
   "outputs": [
    {
     "data": {
      "text/plain": [
       "<AxesSubplot:ylabel='Frequency'>"
      ]
     },
     "execution_count": 29,
     "metadata": {},
     "output_type": "execute_result"
    },
    {
     "data": {
      "image/png": "[encoded data removed]",
      "text/plain": [
       "<Figure size 1600x400 with 1 Axes>"
      ]
     },
     "metadata": {},
     "output_type": "display_data"
    }
   ],
   "source": [
    "min['value'].plot(kind='hist',figsize=(16,4))"
   ]
  },
  {
   "cell_type": "code",
   "execution_count": 30,
   "id": "65d998f0",
   "metadata": {},
   "outputs": [],
   "source": [
    "big_sales = onlyPollos.loc[(onlyPollos['value'] > 200000) & (onlyPollos['value'] < 2000000)]"
   ]
  },
  {
   "cell_type": "code",
   "execution_count": 31,
   "id": "6a939863",
   "metadata": {},
   "outputs": [
    {
     "data": {
      "text/html": [
       "<div>\n",
       "<style scoped>\n",
       "    .dataframe tbody tr th:only-of-type {\n",
       "        vertical-align: middle;\n",
       "    }\n",
       "\n",
       "    .dataframe tbody tr th {\n",
       "        vertical-align: top;\n",
       "    }\n",
       "\n",
       "    .dataframe thead th {\n",
       "        text-align: right;\n",
       "    }\n",
       "</style>\n",
       "<table border=\"1\" class=\"dataframe\">\n",
       "  <thead>\n",
       "    <tr style=\"text-align: right;\">\n",
       "      <th></th>\n",
       "      <th>Date</th>\n",
       "      <th>amount</th>\n",
       "      <th>status</th>\n",
       "      <th>id</th>\n",
       "      <th>belongTo</th>\n",
       "      <th>object</th>\n",
       "      <th>building</th>\n",
       "      <th>name</th>\n",
       "      <th>value</th>\n",
       "      <th>payload</th>\n",
       "    </tr>\n",
       "  </thead>\n",
       "  <tbody>\n",
       "    <tr>\n",
       "      <th>2</th>\n",
       "      <td>2022-11-30 23:49:14.042</td>\n",
       "      <td>15</td>\n",
       "      <td>Pagado</td>\n",
       "      <td>020d0bb3-91ed-41cb-befb-bb249efb9390</td>\n",
       "      <td>{'id': '6bb02aaf-d03c-4b28-a88a-1832a76fe25b',...</td>\n",
       "      <td>Pollo</td>\n",
       "      <td>{'nameSector': 'A', 'nameBarn': 'Galpon1', 'id...</td>\n",
       "      <td>Pollo</td>\n",
       "      <td>521000</td>\n",
       "      <td>NaN</td>\n",
       "    </tr>\n",
       "    <tr>\n",
       "      <th>4</th>\n",
       "      <td>2022-11-09 03:27:28.250</td>\n",
       "      <td>4</td>\n",
       "      <td>Pagado</td>\n",
       "      <td>042dcac7-f5ec-44d5-8ddc-1a7cdf17c96e</td>\n",
       "      <td>{'name': 'Jose Bermudez', 'id': 'f80fe47b-084d...</td>\n",
       "      <td>Pollo</td>\n",
       "      <td>{'idSector': '', 'idBarn': '', 'nameBarn': '',...</td>\n",
       "      <td>Pollo Fresco</td>\n",
       "      <td>250000</td>\n",
       "      <td>NaN</td>\n",
       "    </tr>\n",
       "    <tr>\n",
       "      <th>48</th>\n",
       "      <td>2022-11-27 15:07:04.520</td>\n",
       "      <td>2</td>\n",
       "      <td>Pagado</td>\n",
       "      <td>26734748-d465-4c6e-9616-1861d46a5aae</td>\n",
       "      <td>{'id': '5b16dfc1-c68b-474f-94b5-9993e375912f',...</td>\n",
       "      <td>Pollo</td>\n",
       "      <td>{'idSector': '', 'nameSector': '', 'nameBarn':...</td>\n",
       "      <td>Bulto de Crecentina C</td>\n",
       "      <td>200800</td>\n",
       "      <td>NaN</td>\n",
       "    </tr>\n",
       "    <tr>\n",
       "      <th>52</th>\n",
       "      <td>2022-11-30 23:52:32.818</td>\n",
       "      <td>5</td>\n",
       "      <td>Pagado</td>\n",
       "      <td>28628757-c2f7-4ff0-88e0-2dfa004d43fa</td>\n",
       "      <td>{'id': 'c86b961e-6dc2-4a50-80d9-c6d42101df30',...</td>\n",
       "      <td>Pollo</td>\n",
       "      <td>{'nameSector': 'A', 'idSector': 'f49a016c-645d...</td>\n",
       "      <td>Pollo Fresco</td>\n",
       "      <td>211250</td>\n",
       "      <td>NaN</td>\n",
       "    </tr>\n",
       "    <tr>\n",
       "      <th>58</th>\n",
       "      <td>2022-10-30 01:47:09.286</td>\n",
       "      <td>15</td>\n",
       "      <td>Pagado</td>\n",
       "      <td>32725ab5-8cfb-4ec8-a5bb-a0a0871cefcb</td>\n",
       "      <td>{'name': 'Ramon Ortiz', 'id': '6bb02aaf-d03c-4...</td>\n",
       "      <td>Pollo</td>\n",
       "      <td>NaN</td>\n",
       "      <td>Pollo Fresco</td>\n",
       "      <td>539300</td>\n",
       "      <td>NaN</td>\n",
       "    </tr>\n",
       "    <tr>\n",
       "      <th>...</th>\n",
       "      <td>...</td>\n",
       "      <td>...</td>\n",
       "      <td>...</td>\n",
       "      <td>...</td>\n",
       "      <td>...</td>\n",
       "      <td>...</td>\n",
       "      <td>...</td>\n",
       "      <td>...</td>\n",
       "      <td>...</td>\n",
       "      <td>...</td>\n",
       "    </tr>\n",
       "    <tr>\n",
       "      <th>283</th>\n",
       "      <td>2022-11-27 15:02:41.202</td>\n",
       "      <td>18</td>\n",
       "      <td>Pagado</td>\n",
       "      <td>df9dec42-d6e5-4eeb-b253-cb57e95c3e1b</td>\n",
       "      <td>{'id': '6bb02aaf-d03c-4b28-a88a-1832a76fe25b',...</td>\n",
       "      <td>Pollo</td>\n",
       "      <td>{'idBarn': '27d5f0f3-299c-4525-9e8b-6499e63998...</td>\n",
       "      <td>Pollo Fresco</td>\n",
       "      <td>665730</td>\n",
       "      <td>NaN</td>\n",
       "    </tr>\n",
       "    <tr>\n",
       "      <th>289</th>\n",
       "      <td>2022-11-09 03:19:17.763</td>\n",
       "      <td>15</td>\n",
       "      <td>Pagado</td>\n",
       "      <td>e6618616-f524-4382-8b96-d081bf8c9e56</td>\n",
       "      <td>{'id': '6bb02aaf-d03c-4b28-a88a-1832a76fe25b',...</td>\n",
       "      <td>Pollo</td>\n",
       "      <td>{'idSector': '', 'nameBarn': '', 'nameSector':...</td>\n",
       "      <td>Pollo Fresco</td>\n",
       "      <td>494730</td>\n",
       "      <td>NaN</td>\n",
       "    </tr>\n",
       "    <tr>\n",
       "      <th>295</th>\n",
       "      <td>2022-10-26 11:32:32.945</td>\n",
       "      <td>15</td>\n",
       "      <td>Pagado</td>\n",
       "      <td>e8de5c93-7eef-46fb-afe2-eb69c9d782b3</td>\n",
       "      <td>{'name': 'Ramon Ortiz', 'id': '6bb02aaf-d03c-4...</td>\n",
       "      <td>Pollo</td>\n",
       "      <td>NaN</td>\n",
       "      <td>Pollo Fresco</td>\n",
       "      <td>464000</td>\n",
       "      <td>NaN</td>\n",
       "    </tr>\n",
       "    <tr>\n",
       "      <th>299</th>\n",
       "      <td>2022-12-06 19:44:25.462</td>\n",
       "      <td>15</td>\n",
       "      <td>Pagado</td>\n",
       "      <td>eb01a80d-670a-40e9-8f11-f5ce969b920d</td>\n",
       "      <td>{'id': '6bb02aaf-d03c-4b28-a88a-1832a76fe25b',...</td>\n",
       "      <td>Pollo</td>\n",
       "      <td>{'idBarn': '27d5f0f3-299c-4525-9e8b-6499e63998...</td>\n",
       "      <td>Pollo Fresco</td>\n",
       "      <td>547600</td>\n",
       "      <td>NaN</td>\n",
       "    </tr>\n",
       "    <tr>\n",
       "      <th>313</th>\n",
       "      <td>2022-11-17 19:06:15.288</td>\n",
       "      <td>10</td>\n",
       "      <td>Pagado</td>\n",
       "      <td>f5ede724-a417-43e4-9851-0436ca9d671a</td>\n",
       "      <td>{'id': '4d9502b1-22f7-4307-bcfb-219515870e9d',...</td>\n",
       "      <td>Pollo</td>\n",
       "      <td>{'idBarn': 'a9705012-2493-4787-816a-4714512b13...</td>\n",
       "      <td>Pollo Fresco</td>\n",
       "      <td>774800</td>\n",
       "      <td>NaN</td>\n",
       "    </tr>\n",
       "  </tbody>\n",
       "</table>\n",
       "<p>22 rows × 10 columns</p>\n",
       "</div>"
      ],
      "text/plain": [
       "                       Date  amount  status  \\\n",
       "2   2022-11-30 23:49:14.042      15  Pagado   \n",
       "4   2022-11-09 03:27:28.250       4  Pagado   \n",
       "48  2022-11-27 15:07:04.520       2  Pagado   \n",
       "52  2022-11-30 23:52:32.818       5  Pagado   \n",
       "58  2022-10-30 01:47:09.286      15  Pagado   \n",
       "..                      ...     ...     ...   \n",
       "283 2022-11-27 15:02:41.202      18  Pagado   \n",
       "289 2022-11-09 03:19:17.763      15  Pagado   \n",
       "295 2022-10-26 11:32:32.945      15  Pagado   \n",
       "299 2022-12-06 19:44:25.462      15  Pagado   \n",
       "313 2022-11-17 19:06:15.288      10  Pagado   \n",
       "\n",
       "                                       id  \\\n",
       "2    020d0bb3-91ed-41cb-befb-bb249efb9390   \n",
       "4    042dcac7-f5ec-44d5-8ddc-1a7cdf17c96e   \n",
       "48   26734748-d465-4c6e-9616-1861d46a5aae   \n",
       "52   28628757-c2f7-4ff0-88e0-2dfa004d43fa   \n",
       "58   32725ab5-8cfb-4ec8-a5bb-a0a0871cefcb   \n",
       "..                                    ...   \n",
       "283  df9dec42-d6e5-4eeb-b253-cb57e95c3e1b   \n",
       "289  e6618616-f524-4382-8b96-d081bf8c9e56   \n",
       "295  e8de5c93-7eef-46fb-afe2-eb69c9d782b3   \n",
       "299  eb01a80d-670a-40e9-8f11-f5ce969b920d   \n",
       "313  f5ede724-a417-43e4-9851-0436ca9d671a   \n",
       "\n",
       "                                              belongTo object  \\\n",
       "2    {'id': '6bb02aaf-d03c-4b28-a88a-1832a76fe25b',...  Pollo   \n",
       "4    {'name': 'Jose Bermudez', 'id': 'f80fe47b-084d...  Pollo   \n",
       "48   {'id': '5b16dfc1-c68b-474f-94b5-9993e375912f',...  Pollo   \n",
       "52   {'id': 'c86b961e-6dc2-4a50-80d9-c6d42101df30',...  Pollo   \n",
       "58   {'name': 'Ramon Ortiz', 'id': '6bb02aaf-d03c-4...  Pollo   \n",
       "..                                                 ...    ...   \n",
       "283  {'id': '6bb02aaf-d03c-4b28-a88a-1832a76fe25b',...  Pollo   \n",
       "289  {'id': '6bb02aaf-d03c-4b28-a88a-1832a76fe25b',...  Pollo   \n",
       "295  {'name': 'Ramon Ortiz', 'id': '6bb02aaf-d03c-4...  Pollo   \n",
       "299  {'id': '6bb02aaf-d03c-4b28-a88a-1832a76fe25b',...  Pollo   \n",
       "313  {'id': '4d9502b1-22f7-4307-bcfb-219515870e9d',...  Pollo   \n",
       "\n",
       "                                              building                   name  \\\n",
       "2    {'nameSector': 'A', 'nameBarn': 'Galpon1', 'id...                  Pollo   \n",
       "4    {'idSector': '', 'idBarn': '', 'nameBarn': '',...           Pollo Fresco   \n",
       "48   {'idSector': '', 'nameSector': '', 'nameBarn':...  Bulto de Crecentina C   \n",
       "52   {'nameSector': 'A', 'idSector': 'f49a016c-645d...           Pollo Fresco   \n",
       "58                                                 NaN           Pollo Fresco   \n",
       "..                                                 ...                    ...   \n",
       "283  {'idBarn': '27d5f0f3-299c-4525-9e8b-6499e63998...           Pollo Fresco   \n",
       "289  {'idSector': '', 'nameBarn': '', 'nameSector':...           Pollo Fresco   \n",
       "295                                                NaN           Pollo Fresco   \n",
       "299  {'idBarn': '27d5f0f3-299c-4525-9e8b-6499e63998...           Pollo Fresco   \n",
       "313  {'idBarn': 'a9705012-2493-4787-816a-4714512b13...           Pollo Fresco   \n",
       "\n",
       "      value payload  \n",
       "2    521000     NaN  \n",
       "4    250000     NaN  \n",
       "48   200800     NaN  \n",
       "52   211250     NaN  \n",
       "58   539300     NaN  \n",
       "..      ...     ...  \n",
       "283  665730     NaN  \n",
       "289  494730     NaN  \n",
       "295  464000     NaN  \n",
       "299  547600     NaN  \n",
       "313  774800     NaN  \n",
       "\n",
       "[22 rows x 10 columns]"
      ]
     },
     "execution_count": 31,
     "metadata": {},
     "output_type": "execute_result"
    }
   ],
   "source": [
    "big_sales"
   ]
  },
  {
   "cell_type": "code",
   "execution_count": 32,
   "id": "359dec5d",
   "metadata": {},
   "outputs": [
    {
     "data": {
      "text/plain": [
       "<AxesSubplot:ylabel='Frequency'>"
      ]
     },
     "execution_count": 32,
     "metadata": {},
     "output_type": "execute_result"
    },
    {
     "data": {
      "image/png": "[encoded data removed]",
      "text/plain": [
       "<Figure size 1600x900 with 1 Axes>"
      ]
     },
     "metadata": {},
     "output_type": "display_data"
    }
   ],
   "source": [
    "big_sales['value'].plot(kind='hist',figsize=(16,9))"
   ]
  },
  {
   "cell_type": "code",
   "execution_count": 36,
   "id": "5450be6a",
   "metadata": {},
   "outputs": [
    {
     "data": {
      "text/plain": [
       "482176.36363636365"
      ]
     },
     "execution_count": 36,
     "metadata": {},
     "output_type": "execute_result"
    }
   ],
   "source": [
    "big_sales['value'].mean()"
   ]
  },
  {
   "cell_type": "code",
   "execution_count": 41,
   "id": "e46e7c63",
   "metadata": {},
   "outputs": [
    {
     "data": {
      "text/plain": [
       "<AxesSubplot:>"
      ]
     },
     "execution_count": 41,
     "metadata": {},
     "output_type": "execute_result"
    },
    {
     "data": {
      "image/png": "[encoded data removed]",
      "text/plain": [
       "<Figure size 640x480 with 1 Axes>"
      ]
     },
     "metadata": {},
     "output_type": "display_data"
    }
   ],
   "source": [
    "big_sales['amount'].plot()"
   ]
  },
  {
   "cell_type": "code",
   "execution_count": null,
   "id": "b10de2f6",
   "metadata": {},
   "outputs": [],
   "source": []
  },
  {
   "cell_type": "code",
   "execution_count": null,
   "id": "934e1511",
   "metadata": {},
   "outputs": [],
   "source": []
  },
  {
   "cell_type": "code",
   "execution_count": null,
   "id": "c82a0ec5",
   "metadata": {},
   "outputs": [],
   "source": []
  }
 ],
 "metadata": {
  "kernelspec": {
   "display_name": "Python 3 (ipykernel)",
   "language": "python",
   "name": "python3"
  },
  "language_info": {
   "codemirror_mode": {
    "name": "ipython",
    "version": 3
   },
   "file_extension": ".py",
   "mimetype": "text/x-python",
   "name": "python",
   "nbconvert_exporter": "python",
   "pygments_lexer": "ipython3",
   "version": "3.9.13"
  }
 },
 "nbformat": 4,
 "nbformat_minor": 5
}
